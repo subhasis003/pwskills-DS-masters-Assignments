{
 "cells": [
  {
   "cell_type": "code",
   "execution_count": 9,
   "metadata": {},
   "outputs": [
    {
     "ename": "SyntaxError",
     "evalue": "unmatched ')' (1061152777.py, line 17)",
     "output_type": "error",
     "traceback": [
      "\u001b[1;36m  Cell \u001b[1;32mIn[9], line 17\u001b[1;36m\u001b[0m\n\u001b[1;33m    Ans 15:- step1) Right-clicking This PC and going to Properties.\u001b[0m\n\u001b[1;37m                  ^\u001b[0m\n\u001b[1;31mSyntaxError\u001b[0m\u001b[1;31m:\u001b[0m unmatched ')'\n"
     ]
    }
   ],
   "source": [
    "Ans 1:- Guido van Rossum \n",
    "Ans 2:- Object oriented, structured and functional programming is supported in python\n",
    "Ans 3:- yes python is case sensitive\n",
    "Ans 4:- .py is for python file and .ipynb is for python file in jupyter notebook\n",
    "Ans 5:- Python code is first compiled then interpreted.\n",
    "Ans 6:- a = 5\n",
    "        print('hello', a)\n",
    "\n",
    "Ans 7:- Hash '#' is used for single line comments in python\n",
    "Ans 8:- .version is used to know the version in python\n",
    "Ans 10:- pip stands for preferred installer program\n",
    "Ans 11:- append(), reverse(), type(), count(), etc\n",
    "Ans 12:- 79 characters\n",
    "Ans 13:- Data science, web development, computer graphics, finance and    trading\n",
    "\n",
    "Ans 14:- Memory in python is managed by python private heap space.\n",
    "Ans 15:- step1) Right-clicking This PC and going to Properties.\n",
    "step2) Clicking on the Advanced system settings in the menu on the left.\n",
    "step3) Clicking on the Environment Variables button o​n the bottom right.\n",
    "step4) In the System variables section, selecting the Path variable and clicking on Edit. The next screen will show all the directories that are currently a part of the PATH variable.\n",
    "step5) Clicking on New and entering Python’s install directory.\n",
    "\n",
    "Ans 16:- Yes, python uses identation to indicate a block of code."
   ]
  }
 ],
 "metadata": {
  "kernelspec": {
   "display_name": "Python 3",
   "language": "python",
   "name": "python3"
  },
  "language_info": {
   "codemirror_mode": {
    "name": "ipython",
    "version": 3
   },
   "file_extension": ".py",
   "mimetype": "text/x-python",
   "name": "python",
   "nbconvert_exporter": "python",
   "pygments_lexer": "ipython3",
   "version": "3.11.1"
  },
  "orig_nbformat": 4,
  "vscode": {
   "interpreter": {
    "hash": "4bc7794600a5513162ba660c6fc6d6b7df19ba802e303029670578a0ff21c16b"
   }
  }
 },
 "nbformat": 4,
 "nbformat_minor": 2
}
