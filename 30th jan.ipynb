{
 "cells": [
  {
   "cell_type": "code",
   "execution_count": 3,
   "id": "6342cb8c-2f6d-430a-8392-072dc5bab778",
   "metadata": {},
   "outputs": [
    {
     "name": "stdin",
     "output_type": "stream",
     "text": [
      "Enter your marks 80\n"
     ]
    },
    {
     "name": "stdout",
     "output_type": "stream",
     "text": [
      "C\n"
     ]
    }
   ],
   "source": [
    "#Q1\n",
    "marks = int(input(\"Enter your marks\"))\n",
    "if marks>90:\n",
    "    print(\"A\")\n",
    "elif marks>80 and marks<=90:\n",
    "    print(\"B\")\n",
    "elif marks>=60 and marks<=80:\n",
    "    print(\"C\")\n",
    "else:\n",
    "    print(\"D\")"
   ]
  },
  {
   "cell_type": "code",
   "execution_count": 10,
   "id": "a21af237-6400-47a4-b52b-502ed09d77f8",
   "metadata": {},
   "outputs": [
    {
     "name": "stdin",
     "output_type": "stream",
     "text": [
      "Enter cost price 50000\n"
     ]
    },
    {
     "data": {
      "text/plain": [
       "2500.0"
      ]
     },
     "execution_count": 10,
     "metadata": {},
     "output_type": "execute_result"
    }
   ],
   "source": [
    "#Q2\n",
    "price = int(input(\"Enter cost price\"))\n",
    "if price>100000:\n",
    "    tax = 15\n",
    "elif price>50000 and price<=100000:\n",
    "    tax = 10\n",
    "elif price<=50000:\n",
    "    tax = 5\n",
    "tax = (tax/100)*price\n",
    "tax"
   ]
  },
  {
   "cell_type": "code",
   "execution_count": 2,
   "id": "914aa093-e77c-4b3a-be97-39f27a121369",
   "metadata": {},
   "outputs": [
    {
     "name": "stdin",
     "output_type": "stream",
     "text": [
      "Enter a city name Jaipur\n"
     ]
    },
    {
     "name": "stdout",
     "output_type": "stream",
     "text": [
      "Jal Mahal\n"
     ]
    }
   ],
   "source": [
    "#Q3\n",
    "city = input(\"Enter a city name\")\n",
    "if city == \"Delhi\":\n",
    "    print(\"Red Fort\")\n",
    "elif city == \"Agra\":\n",
    "    print(\"Taj Mahal\")\n",
    "elif city == \"Jaipur\":\n",
    "    print(\"Jal Mahal\")"
   ]
  },
  {
   "cell_type": "code",
   "execution_count": 6,
   "id": "ae41717d-8f4b-4b6f-a87d-f08d2855a023",
   "metadata": {},
   "outputs": [
    {
     "name": "stdin",
     "output_type": "stream",
     "text": [
      "Enter a number 120\n"
     ]
    },
    {
     "data": {
      "text/plain": [
       "3"
      ]
     },
     "execution_count": 6,
     "metadata": {},
     "output_type": "execute_result"
    }
   ],
   "source": [
    "#Q4\n",
    "num = int(input(\"Enter a number\"))\n",
    "count = 0\n",
    "while num>10:\n",
    "    num = num/3\n",
    "    count = count + 1\n",
    "count"
   ]
  },
  {
   "cell_type": "code",
   "execution_count": 7,
   "id": "398d906e-b8f9-4d6d-86b6-ae1c886112a2",
   "metadata": {},
   "outputs": [
    {
     "ename": "SyntaxError",
     "evalue": "invalid syntax (2453150148.py, line 2)",
     "output_type": "error",
     "traceback": [
      "\u001b[1;36m  Cell \u001b[1;32mIn[7], line 2\u001b[1;36m\u001b[0m\n\u001b[1;33m    Python While Loop is used to execute a block of statements repeatedly until a\u001b[0m\n\u001b[1;37m           ^\u001b[0m\n\u001b[1;31mSyntaxError\u001b[0m\u001b[1;31m:\u001b[0m invalid syntax\n"
     ]
    }
   ],
   "source": [
    "#Q5\n",
    "Python While Loop is used to execute a block of statements repeatedly until a \n",
    "given condition is satisfied. And when the condition becomes false, \n",
    "the line immediately after the loop in the program is executed.\n",
    "\n",
    "count = 0\n",
    "while (count<3):\n",
    "    count = count + 1\n",
    "    print(\"Hello World !!!\")"
   ]
  },
  {
   "cell_type": "code",
   "execution_count": 14,
   "id": "cf43dde5-f833-443a-a203-cf1b74971f6f",
   "metadata": {},
   "outputs": [
    {
     "name": "stdin",
     "output_type": "stream",
     "text": [
      "Enter number of rows :  4\n"
     ]
    },
    {
     "name": "stdout",
     "output_type": "stream",
     "text": [
      "* \n",
      "* * \n",
      "* * * \n",
      "* * * * \n"
     ]
    }
   ],
   "source": [
    "#Q6\n",
    "\n",
    "#    *\n",
    "#    * *\n",
    "#    * * *\n",
    "#    * * * *\n",
    "\n",
    "n = int(input('Enter number of rows : '))\n",
    " \n",
    "i = 1\n",
    "while i <= n :\n",
    "    j = 1\n",
    "    while j <= i:\n",
    "        print(\"*\", end = \" \")\n",
    "        j += 1\n",
    "    print()\n",
    "    i += 1"
   ]
  },
  {
   "cell_type": "code",
   "execution_count": 11,
   "id": "bd682ee7-c607-4eb5-9a98-9ed8eea1711d",
   "metadata": {},
   "outputs": [
    {
     "name": "stdin",
     "output_type": "stream",
     "text": [
      "Enter number of rows :  4\n"
     ]
    },
    {
     "name": "stdout",
     "output_type": "stream",
     "text": [
      "* * * * \n",
      "* * * \n",
      "* * \n",
      "* \n"
     ]
    }
   ],
   "source": [
    "#Q6\n",
    "\n",
    "#  * * * * \n",
    "#  * * * \n",
    "#  * * \n",
    "#  * \n",
    "\n",
    "n = int(input('Enter number of rows : '))\n",
    " \n",
    "i = 1\n",
    "while i <= n :\n",
    "    j = n\n",
    "    while j >= i:\n",
    "        print(\"*\", end = \" \")\n",
    "        j -= 1\n",
    "    print()\n",
    "    i += 1"
   ]
  },
  {
   "cell_type": "code",
   "execution_count": 18,
   "id": "f7039da2-0d0b-4afb-a4e3-5adde97a6868",
   "metadata": {},
   "outputs": [
    {
     "name": "stdin",
     "output_type": "stream",
     "text": [
      "Enter number of rows :  5\n"
     ]
    },
    {
     "name": "stdout",
     "output_type": "stream",
     "text": [
      "1 \n",
      "2 3 \n",
      "4 5 6 \n",
      "7 8 9 10 \n",
      "11 12 13 14 15 \n"
     ]
    }
   ],
   "source": [
    "#Q6\n",
    "\n",
    "#  1 \n",
    "#  2   3 \n",
    "#  4   5   6 \n",
    "#  7   8   9  10 \n",
    "\n",
    "\n",
    "n = int(input('Enter number of rows : '))\n",
    " \n",
    "k = 1\n",
    "i = 1\n",
    "while i <= n :\n",
    "    j = 1\n",
    "    while j <= i:\n",
    "        print(\"{}\".format(k), end = \" \")\n",
    "        j += 1\n",
    "        k += 1\n",
    "    print()\n",
    "    i += 1"
   ]
  },
  {
   "cell_type": "code",
   "execution_count": 22,
   "id": "ff18bbc1-7b7d-4f97-862f-2b5c2dc93614",
   "metadata": {},
   "outputs": [
    {
     "name": "stdin",
     "output_type": "stream",
     "text": [
      "Enter a number 10\n"
     ]
    },
    {
     "name": "stdout",
     "output_type": "stream",
     "text": [
      "10\n",
      "9\n",
      "8\n",
      "7\n",
      "6\n",
      "5\n",
      "4\n",
      "3\n",
      "2\n",
      "1\n"
     ]
    }
   ],
   "source": [
    "#Q7\n",
    "\n",
    "n = int(input(\"Enter a number\"))\n",
    "while n > 0:\n",
    "    print(n)\n",
    "    n = n - 1\n"
   ]
  },
  {
   "cell_type": "code",
   "execution_count": null,
   "id": "b2abc87d-64e7-428d-b74b-0439184f050a",
   "metadata": {},
   "outputs": [],
   "source": []
  }
 ],
 "metadata": {
  "kernelspec": {
   "display_name": "Python 3 (ipykernel)",
   "language": "python",
   "name": "python3"
  },
  "language_info": {
   "codemirror_mode": {
    "name": "ipython",
    "version": 3
   },
   "file_extension": ".py",
   "mimetype": "text/x-python",
   "name": "python",
   "nbconvert_exporter": "python",
   "pygments_lexer": "ipython3",
   "version": "3.11.1"
  }
 },
 "nbformat": 4,
 "nbformat_minor": 5
}
